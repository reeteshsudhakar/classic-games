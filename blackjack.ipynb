{
 "cells": [
  {
   "cell_type": "markdown",
   "source": [
    "# blackjack \n",
    "### using jupyter notebook and OOP to build a basic game of blackjack! "
   ],
   "metadata": {}
  },
  {
   "cell_type": "markdown",
   "source": [
    "## setting up the deck"
   ],
   "metadata": {}
  },
  {
   "cell_type": "code",
   "execution_count": 9,
   "source": [
    "import random\n",
    "\n",
    "suits = ('Spades', 'Hearts', 'Spades', 'Clubs')\n",
    "ranks = ('Two', 'Three', 'Four', 'Five', 'Six', 'Seven', 'Eight', 'Nine', 'Ten', 'Jack', 'Queen', 'King', 'Ace')\n",
    "values = {'Two':2, 'Three':3, 'Four':4, 'Five':5, 'Six':6, 'Seven':7, 'Eight':8, 'Nine':9, 'Ten':10, 'Jack':10,\n",
    "         'Queen':10, 'King':10, 'Ace':11}\n",
    "\n",
    "playing = True"
   ],
   "outputs": [],
   "metadata": {}
  },
  {
   "cell_type": "code",
   "execution_count": 10,
   "source": [
    "class Card:\n",
    "    \n",
    "    def __init__(self, suit, rank):\n",
    "        self.suit = suit\n",
    "        self.rank = rank\n",
    "    \n",
    "    def __str__(self):\n",
    "        return self.rank + ' of ' + self.suit"
   ],
   "outputs": [],
   "metadata": {}
  },
  {
   "cell_type": "code",
   "execution_count": 11,
   "source": [
    "class Deck:\n",
    "    \n",
    "    def __init__(self):\n",
    "        self.deck = []  # starting out with an empty list\n",
    "        for suit in suits:\n",
    "            for rank in ranks:\n",
    "                self.deck.append(Card(suit, rank))\n",
    "    \n",
    "    def __str__(self):\n",
    "        deck_composition = ''\n",
    "        for card in self.deck:\n",
    "            deck_composition += '\\n' + card.__str__()\n",
    "        return \"The deck contains: \" + deck_composition\n",
    "\n",
    "    def shuffle(self):\n",
    "        random.shuffle(self.deck)\n",
    "        \n",
    "    def deal(self):\n",
    "        single_card = self.deck.pop()\n",
    "        return single_card"
   ],
   "outputs": [],
   "metadata": {}
  },
  {
   "cell_type": "markdown",
   "source": [
    "## setting up the hands"
   ],
   "metadata": {}
  },
  {
   "cell_type": "code",
   "execution_count": 12,
   "source": [
    "class Hand:\n",
    "    def __init__(self):\n",
    "        self.cards = [] \n",
    "        self.value = 0   # start with zero value to count number of aces \n",
    "        self.aces = 0    # keeps track of aces\n",
    "    \n",
    "    def add_card(self,card):\n",
    "        self.cards.append(card)\n",
    "        self.value += values[card.rank]\n",
    "        if card.rank == 'Ace':\n",
    "            self.aces += 1 \n",
    "    \n",
    "    def adjust_for_ace(self):\n",
    "        while self.value > 21 and self.aces:\n",
    "            self.value -= 10\n",
    "            self.aces -= 1"
   ],
   "outputs": [],
   "metadata": {}
  },
  {
   "cell_type": "markdown",
   "source": [],
   "metadata": {}
  },
  {
   "cell_type": "markdown",
   "source": [
    "## betting "
   ],
   "metadata": {}
  },
  {
   "cell_type": "code",
   "execution_count": 13,
   "source": [
    "class Chips:\n",
    "    \n",
    "    def __init__(self):\n",
    "        self.total = 100  # can change the bet - maybe allow the user to input the bet? \n",
    "        self.bet = 0      # maybe set up a minimum bet? \n",
    "        \n",
    "    def win_bet(self):\n",
    "        self.total += self.bet\n",
    "    \n",
    "    def lose_bet(self):\n",
    "        self.total -= self.bet\n",
    "    \n",
    "    def dealer_busts(self):\n",
    "        self.total += (self.bet * 1.5)"
   ],
   "outputs": [],
   "metadata": {}
  },
  {
   "cell_type": "code",
   "execution_count": 14,
   "source": [
    "def take_bet(chips):\n",
    "    \n",
    "    while True: \n",
    "        try:\n",
    "            chips.bet = int(input(\"How much do you want to bet? \"))\n",
    "        except ValueError:\n",
    "            print(\"Sorry, that is not a valid bet. Please enter a proper integer.\")\n",
    "        else: \n",
    "            if chips.bet > chips.total:\n",
    "                print(\"Sorry, that is not a valid bet. You do not have sufficient funds for that bet. You can bet up to \", chips.total)\n",
    "            else: \n",
    "                break"
   ],
   "outputs": [],
   "metadata": {}
  },
  {
   "cell_type": "code",
   "execution_count": 15,
   "source": [
    "def hit(deck,hand):\n",
    "    hand.add_card(deck.deal())\n",
    "    hand.adjust_for_ace()\n",
    "\n",
    "\n",
    "def hit_or_stand(deck,hand):\n",
    "    global playing  \n",
    "    \n",
    "    while True: \n",
    "        a = input(\"Hit or Stand? Enter 'h' or 's'. \")\n",
    "        \n",
    "        if a[0].lower() == 'h':\n",
    "            hit(deck,hand)\n",
    "        \n",
    "        elif a[0].lower() == 's':\n",
    "            print(\"Player stands.\")\n",
    "            playing = False\n",
    "        \n",
    "        else: \n",
    "            print(\"Sorry, please try another input.\")\n",
    "            continue\n",
    "        break "
   ],
   "outputs": [],
   "metadata": {}
  },
  {
   "cell_type": "markdown",
   "source": [
    "## win conditions // game logic"
   ],
   "metadata": {}
  },
  {
   "cell_type": "code",
   "execution_count": 16,
   "source": [
    "def show_some(player,dealer):\n",
    "    print(\"\\n Dealer's Hand:\")\n",
    "    print(\"<card hidden>\")\n",
    "    print('',dealer.cards[1])  \n",
    "    print(\"\\nPlayer's Hand:\", *player.cards, sep = '\\n ')\n",
    "    \n",
    "def show_all(player,dealer):\n",
    "    print(\"\\nDealer's Hand:\", *dealer.cards, sep = '\\n ')\n",
    "    print(\"Dealer's Hand =\", dealer.value)\n",
    "    print(\"\\nPlayer's Hand:\", *player.cards, sep = '\\n ')\n",
    "    print(\"Player's Hand =\", player.value)"
   ],
   "outputs": [],
   "metadata": {}
  },
  {
   "cell_type": "code",
   "execution_count": 18,
   "source": [
    "def player_busts(player, dealer, chips):\n",
    "    print(\"That's a bust!\")\n",
    "    chips.lose_bet()\n",
    "\n",
    "def player_wins(player, dealer, chips):\n",
    "    print(\"Player wins!\")\n",
    "    chips.win_bet()\n",
    "\n",
    "def dealer_busts(player, dealer, chips):\n",
    "    print(\"Dealer busts!\")\n",
    "    chips.dealer_busts()\n",
    "    \n",
    "def dealer_wins(player, dealer, chips):\n",
    "    print(\"Dealer wins!\")\n",
    "    chips.lose_bet()\n",
    "    \n",
    "def push(player, dealer):\n",
    "    print(\"Dealer and Player tie! It's a push.\")"
   ],
   "outputs": [],
   "metadata": {}
  },
  {
   "cell_type": "markdown",
   "source": [
    "## game control"
   ],
   "metadata": {}
  },
  {
   "cell_type": "code",
   "execution_count": null,
   "source": [
    "while True:\n",
    "\n",
    "    print('Welcome to Blackjack! Your goal is to get as close to 21 with your card ranks without going over!\\n\\\n",
    "    Dealer hits until they reaches 17. Aces can count as 1 or 11.')\n",
    "    \n",
    "    # Creating & shuffling deck\n",
    "    # dealing 2 cards to the players\n",
    "    deck = Deck()\n",
    "    deck.shuffle()\n",
    "    \n",
    "    player_hand = Hand()\n",
    "    player_hand.add_card(deck.deal())\n",
    "    player_hand.add_card(deck.deal())\n",
    "    \n",
    "    dealer_hand = Hand()\n",
    "    dealer_hand.add_card(deck.deal())\n",
    "    dealer_hand.add_card(deck.deal())\n",
    "\n",
    "    # setting up chips   \n",
    "    player_chips = Chips()\n",
    "    \n",
    "    # betting\n",
    "    take_bet(player_chips)\n",
    "    \n",
    "    # showing cards \n",
    "    show_some(player_hand,dealer_hand)\n",
    "    \n",
    "    while playing:  \n",
    "        \n",
    "        hit_or_stand(deck, player_hand)\n",
    "        \n",
    "        show_some(player_hand,dealer_hand)  \n",
    "        \n",
    "        if player_hand.value > 21:\n",
    "            player_busts(player_hand,dealer_hand,player_chips)\n",
    "            break        \n",
    "\n",
    "    if player_hand.value <= 21:\n",
    "        while dealer_hand.value < 17:\n",
    "            hit(deck,dealer_hand)    \n",
    "\n",
    "        show_all(player_hand,dealer_hand)\n",
    "\n",
    "\n",
    "        # Run different winning scenarios\n",
    "        if dealer_hand.value > 21:\n",
    "            dealer_busts(player_hand,dealer_hand,player_chips)\n",
    "\n",
    "        elif dealer_hand.value > player_hand.value:\n",
    "            dealer_wins(player_hand,dealer_hand,player_chips)\n",
    "\n",
    "        elif dealer_hand.value < player_hand.value:\n",
    "            player_wins(player_hand,dealer_hand,player_chips)\n",
    "\n",
    "        else:\n",
    "            push(player_hand,dealer_hand)        \n",
    "\n",
    "    print(\"\\nPlayer's winnings are a total of: \",player_chips.total)\n",
    "\n",
    "\n",
    "    another_game = input(\"Would you like to play another hand? Enter 'y' or 'n'. \")\n",
    "    \n",
    "    if another_game[0].lower() == 'y':\n",
    "        playing = True\n",
    "        continue\n",
    "    else:\n",
    "        print(\"Thank you for playing Blackjack!\")\n",
    "        break"
   ],
   "outputs": [],
   "metadata": {}
  }
 ],
 "metadata": {
  "orig_nbformat": 4,
  "language_info": {
   "name": "python",
   "version": "3.8.5",
   "mimetype": "text/x-python",
   "codemirror_mode": {
    "name": "ipython",
    "version": 3
   },
   "pygments_lexer": "ipython3",
   "nbconvert_exporter": "python",
   "file_extension": ".py"
  },
  "kernelspec": {
   "name": "python3",
   "display_name": "Python 3.8.5 64-bit ('base': conda)"
  },
  "interpreter": {
   "hash": "dca0ade3e726a953b501b15e8e990130d2b7799f14cfd9f4271676035ebe5511"
  }
 },
 "nbformat": 4,
 "nbformat_minor": 2
}